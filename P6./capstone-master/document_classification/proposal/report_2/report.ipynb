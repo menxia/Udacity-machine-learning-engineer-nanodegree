{
 "cells": [
  {
   "cell_type": "code",
   "execution_count": 1,
   "metadata": {
    "collapsed": false,
    "deletable": true,
    "editable": true
   },
   "outputs": [],
   "source": [
    "import tensorflow as tf\n",
    "import numpy as np\n",
    "import pandas as pd\n",
    "import matplotlib.pyplot as plt\n",
    "import gensim\n",
    "import sklearn\n",
    "from sklearn.datasets import fetch_20newsgroups\n",
    "import re"
   ]
  },
  {
   "cell_type": "markdown",
   "metadata": {
    "deletable": true,
    "editable": true
   },
   "source": [
    "## Prepare the data"
   ]
  },
  {
   "cell_type": "markdown",
   "metadata": {},
   "source": [
    "读取原始数据"
   ]
  },
  {
   "cell_type": "code",
   "execution_count": 2,
   "metadata": {
    "collapsed": false
   },
   "outputs": [],
   "source": [
    "cats = None\n",
    "\n",
    "newsgroups_train_raw = fetch_20newsgroups(subset='train', categories=cats)\n",
    "\n",
    "newsgroups_test_raw = fetch_20newsgroups(subset='test', categories=cats)"
   ]
  },
  {
   "cell_type": "code",
   "execution_count": 3,
   "metadata": {
    "collapsed": false
   },
   "outputs": [
    {
     "data": {
      "text/plain": [
       "\"From: guykuo@carson.u.washington.edu (Guy Kuo)\\nSubject: SI Clock Poll - Final Call\\nSummary: Final call for SI clock reports\\nKeywords: SI,acceleration,clock,upgrade\\nArticle-I.D.: shelley.1qvfo9INNc3s\\nOrganization: University of Washington\\nLines: 11\\nNNTP-Posting-Host: carson.u.washington.edu\\n\\nA fair number of brave souls who upgraded their SI clock oscillator have\\nshared their experiences for this poll. Please send a brief message detailing\\nyour experiences with the procedure. Top speed attained, CPU rated speed,\\nadd on cards and adapters, heat sinks, hour of usage per day, floppy disk\\nfunctionality with 800 and 1.4 m floppies are especially requested.\\n\\nI will be summarizing in the next two days, so please add to the network\\nknowledge base if you have done the clock upgrade and haven't answered this\\npoll. Thanks.\\n\\nGuy Kuo <guykuo@u.washington.edu>\\n\""
      ]
     },
     "execution_count": 3,
     "metadata": {},
     "output_type": "execute_result"
    }
   ],
   "source": [
    "newsgroups_train_raw.data[1]"
   ]
  },
  {
   "cell_type": "markdown",
   "metadata": {},
   "source": [
    "读取数据，去除新闻文档的标题、注脚和引用"
   ]
  },
  {
   "cell_type": "code",
   "execution_count": 4,
   "metadata": {
    "collapsed": false,
    "deletable": true,
    "editable": true
   },
   "outputs": [],
   "source": [
    "cats = None\n",
    "\n",
    "newsgroups_train = fetch_20newsgroups(subset='train', remove=('headers', 'footers', 'quotes'), categories=cats)\n",
    "\n",
    "newsgroups_test = fetch_20newsgroups(subset='test', remove=('headers', 'footers', 'quotes'), categories=cats)"
   ]
  },
  {
   "cell_type": "code",
   "execution_count": 5,
   "metadata": {
    "collapsed": false
   },
   "outputs": [
    {
     "data": {
      "text/plain": [
       "\"A fair number of brave souls who upgraded their SI clock oscillator have\\nshared their experiences for this poll. Please send a brief message detailing\\nyour experiences with the procedure. Top speed attained, CPU rated speed,\\nadd on cards and adapters, heat sinks, hour of usage per day, floppy disk\\nfunctionality with 800 and 1.4 m floppies are especially requested.\\n\\nI will be summarizing in the next two days, so please add to the network\\nknowledge base if you have done the clock upgrade and haven't answered this\\npoll. Thanks.\""
      ]
     },
     "execution_count": 5,
     "metadata": {},
     "output_type": "execute_result"
    }
   ],
   "source": [
    "newsgroups_train.data[1]"
   ]
  },
  {
   "cell_type": "code",
   "execution_count": 6,
   "metadata": {
    "collapsed": false
   },
   "outputs": [
    {
     "data": {
      "text/plain": [
       "'/Users/fanfan/scikit_learn_data/20news_home/20news-bydate-train/comp.sys.mac.hardware/51861'"
      ]
     },
     "execution_count": 6,
     "metadata": {},
     "output_type": "execute_result"
    }
   ],
   "source": [
    "newsgroups_train.filenames[1]"
   ]
  },
  {
   "cell_type": "markdown",
   "metadata": {},
   "source": [
    "文本预处理"
   ]
  },
  {
   "cell_type": "code",
   "execution_count": 7,
   "metadata": {
    "collapsed": true,
    "deletable": true,
    "editable": true
   },
   "outputs": [],
   "source": [
    "def clean(text):\n",
    "    \"\"\"Remove posting header, split by sentences and words, keep only letters\"\"\"\n",
    "    result = []\n",
    "    lines = re.split('[?!.:]\\s', re.sub('^.*Lines: \\d+', '', re.sub('\\n', ' ', text)))\n",
    "    for line in lines:\n",
    "        result = result + re.sub('[^a-zA-Z]', ' ', line).lower().split()\n",
    "    return result\n",
    "\n",
    "sentences = [clean(text) for text in newsgroups_train.data]\n",
    "\n",
    "sentences_test = [clean(text) for text in newsgroups_test.data]"
   ]
  },
  {
   "cell_type": "code",
   "execution_count": 8,
   "metadata": {
    "collapsed": false,
    "deletable": true,
    "editable": true
   },
   "outputs": [
    {
     "data": {
      "text/plain": [
       "11314"
      ]
     },
     "execution_count": 8,
     "metadata": {},
     "output_type": "execute_result"
    }
   ],
   "source": [
    "len(sentences)"
   ]
  },
  {
   "cell_type": "code",
   "execution_count": 9,
   "metadata": {
    "collapsed": false,
    "deletable": true,
    "editable": true
   },
   "outputs": [
    {
     "data": {
      "text/plain": [
       "7532"
      ]
     },
     "execution_count": 9,
     "metadata": {},
     "output_type": "execute_result"
    }
   ],
   "source": [
    "len(sentences_test)"
   ]
  },
  {
   "cell_type": "code",
   "execution_count": 10,
   "metadata": {
    "collapsed": false,
    "deletable": true,
    "editable": true
   },
   "outputs": [],
   "source": [
    "import matplotlib.pyplot as plt\n",
    "%matplotlib inline"
   ]
  },
  {
   "cell_type": "code",
   "execution_count": 11,
   "metadata": {
    "collapsed": false,
    "deletable": true,
    "editable": true
   },
   "outputs": [],
   "source": [
    "from collections import Counter"
   ]
  },
  {
   "cell_type": "markdown",
   "metadata": {},
   "source": [
    "对每个类别的文档数目进行统计"
   ]
  },
  {
   "cell_type": "code",
   "execution_count": 12,
   "metadata": {
    "collapsed": false,
    "deletable": true,
    "editable": true
   },
   "outputs": [
    {
     "data": {
      "text/plain": [
       "<matplotlib.text.Text at 0x129d98d68>"
      ]
     },
     "execution_count": 12,
     "metadata": {},
     "output_type": "execute_result"
    },
    {
     "data": {
      "image/png": "[encoded data removed]",
      "text/plain": [
       "<matplotlib.figure.Figure at 0x126a656d8>"
      ]
     },
     "metadata": {},
     "output_type": "display_data"
    }
   ],
   "source": [
    "train_des = Counter(newsgroups_train.target)\n",
    "\n",
    "plt.bar(list(train_des.keys()), list(train_des.values()), tick_label = [i.split('.')[-1] for i in newsgroups_train.target_names])\n",
    "plt.xlabel('Categories')\n",
    "plt.ylabel('Frequency')\n",
    "plt.title('Distribution of Test Data Categories')"
   ]
  },
  {
   "cell_type": "code",
   "execution_count": 13,
   "metadata": {
    "collapsed": false
   },
   "outputs": [
    {
     "data": {
      "text/plain": [
       "<matplotlib.text.Text at 0x129f1d160>"
      ]
     },
     "execution_count": 13,
     "metadata": {},
     "output_type": "execute_result"
    },
    {
     "data": {
      "image/png": "[encoded data removed]",
      "text/plain": [
       "<matplotlib.figure.Figure at 0x129e14160>"
      ]
     },
     "metadata": {},
     "output_type": "display_data"
    }
   ],
   "source": [
    "test_des = Counter(newsgroups_test.target)\n",
    "\n",
    "plt.bar(list(test_des.keys()), list(test_des.values()), tick_label = [i.split('.')[-1] for i in newsgroups_test.target_names])\n",
    "plt.xlabel('Categories')\n",
    "plt.ylabel('Frequency')\n",
    "plt.title('Distribution of Test Data Categories')"
   ]
  },
  {
   "cell_type": "markdown",
   "metadata": {},
   "source": [
    "对文档字数进行统计"
   ]
  },
  {
   "cell_type": "code",
   "execution_count": 14,
   "metadata": {
    "collapsed": false,
    "deletable": true,
    "editable": true
   },
   "outputs": [
    {
     "data": {
      "text/plain": [
       "<matplotlib.text.Text at 0x129fc1390>"
      ]
     },
     "execution_count": 14,
     "metadata": {},
     "output_type": "execute_result"
    },
    {
     "data": {
      "image/png": "[encoded data removed]",
      "text/plain": [
       "<matplotlib.figure.Figure at 0x129fee4e0>"
      ]
     },
     "metadata": {},
     "output_type": "display_data"
    }
   ],
   "source": [
    "plt.hist([len(i) for i in sentences], range = (0,700), bins = 20)\n",
    "plt.title('Histgram of Documents Words Count')\n",
    "plt.xlabel(\"Doucuments' Words Count\")\n",
    "plt.ylabel('Frequency')"
   ]
  },
  {
   "cell_type": "markdown",
   "metadata": {},
   "source": [
    "对词频进行统计"
   ]
  },
  {
   "cell_type": "code",
   "execution_count": 15,
   "metadata": {
    "collapsed": false,
    "deletable": true,
    "editable": true
   },
   "outputs": [],
   "source": [
    "words = []\n",
    "for sentence in sentences:\n",
    "    words = words + sentence\n",
    "count = Counter(words)"
   ]
  },
  {
   "cell_type": "code",
   "execution_count": 16,
   "metadata": {
    "collapsed": true,
    "deletable": true,
    "editable": true
   },
   "outputs": [],
   "source": [
    "keys= [i[0] for i in count.most_common()]\n",
    "values = [i[1] for i in count.most_common()]"
   ]
  },
  {
   "cell_type": "code",
   "execution_count": 17,
   "metadata": {
    "collapsed": false,
    "deletable": true,
    "editable": true
   },
   "outputs": [
    {
     "data": {
      "text/plain": [
       "72904"
      ]
     },
     "execution_count": 17,
     "metadata": {},
     "output_type": "execute_result"
    }
   ],
   "source": [
    "len(count)"
   ]
  },
  {
   "cell_type": "code",
   "execution_count": 18,
   "metadata": {
    "collapsed": false,
    "deletable": true,
    "editable": true
   },
   "outputs": [
    {
     "data": {
      "text/plain": [
       "<matplotlib.text.Text at 0x12a354940>"
      ]
     },
     "execution_count": 18,
     "metadata": {},
     "output_type": "execute_result"
    },
    {
     "data": {
      "image/png": "[encoded data removed]",
      "text/plain": [
       "<matplotlib.figure.Figure at 0x11a11d1d0>"
      ]
     },
     "metadata": {},
     "output_type": "display_data"
    }
   ],
   "source": [
    "plt.bar(range(20), values[:20], tick_label =keys[:20])\n",
    "plt.xlabel('Word')\n",
    "plt.ylabel('Frequency')\n",
    "plt.title('Most Frequent Words')"
   ]
  },
  {
   "cell_type": "markdown",
   "metadata": {
    "deletable": true,
    "editable": true
   },
   "source": [
    "## Method 1: Bag of Words\n",
    "### Preprocess the data with tf-idf"
   ]
  },
  {
   "cell_type": "code",
   "execution_count": 19,
   "metadata": {
    "collapsed": true,
    "deletable": true,
    "editable": true
   },
   "outputs": [],
   "source": [
    "from sklearn.feature_extraction.text import TfidfVectorizer\n",
    "\n",
    "vectorizer = TfidfVectorizer()\n",
    "\n",
    "vector_train = vectorizer.fit_transform(newsgroups_train.data)\n",
    "\n",
    "vector_test = vectorizer.transform(newsgroups_test.data)"
   ]
  },
  {
   "cell_type": "code",
   "execution_count": 20,
   "metadata": {
    "collapsed": false
   },
   "outputs": [
    {
     "data": {
      "text/plain": [
       "(11314, 101631)"
      ]
     },
     "execution_count": 20,
     "metadata": {},
     "output_type": "execute_result"
    }
   ],
   "source": [
    "vector_train.shape"
   ]
  },
  {
   "cell_type": "markdown",
   "metadata": {},
   "source": [
    "### 定义函数用于训练和预测"
   ]
  },
  {
   "cell_type": "code",
   "execution_count": 21,
   "metadata": {
    "collapsed": true
   },
   "outputs": [],
   "source": [
    "def train_pred_fn(clf, train_data, test_data):\n",
    "    clf.fit(train_data, newsgroups_train.target)\n",
    "    print(\"Training score is %.3f\"%clf.score(train_data, newsgroups_train.target))\n",
    "    print(\"Testing score is %.3f\"%clf.score(test_data, newsgroups_test.target))"
   ]
  },
  {
   "cell_type": "markdown",
   "metadata": {
    "deletable": true,
    "editable": true
   },
   "source": [
    "### Classify with LogisticRegression"
   ]
  },
  {
   "cell_type": "code",
   "execution_count": 28,
   "metadata": {
    "collapsed": false,
    "deletable": true,
    "editable": true
   },
   "outputs": [
    {
     "name": "stdout",
     "output_type": "stream",
     "text": [
      "Training score is 0.896\n",
      "Testing score is 0.678\n"
     ]
    }
   ],
   "source": [
    "from sklearn.linear_model import LogisticRegression\n",
    "\n",
    "clf = LogisticRegression()\n",
    "\n",
    "train_pred_fn(clf, vector_train, vector_test)"
   ]
  },
  {
   "cell_type": "markdown",
   "metadata": {
    "deletable": true,
    "editable": true
   },
   "source": [
    "### Classify with RandomForest"
   ]
  },
  {
   "cell_type": "code",
   "execution_count": 30,
   "metadata": {
    "collapsed": false,
    "deletable": true,
    "editable": true
   },
   "outputs": [
    {
     "name": "stdout",
     "output_type": "stream",
     "text": [
      "Training score is 0.971\n",
      "Testing score is 0.396\n"
     ]
    }
   ],
   "source": [
    "from sklearn.ensemble import RandomForestClassifier\n",
    "\n",
    "clf = RandomForestClassifier()\n",
    "\n",
    "train_pred_fn(clf, vector_train, vector_test)"
   ]
  },
  {
   "cell_type": "markdown",
   "metadata": {
    "deletable": true,
    "editable": true
   },
   "source": [
    "### Classify with SVM"
   ]
  },
  {
   "cell_type": "code",
   "execution_count": 29,
   "metadata": {
    "collapsed": false,
    "deletable": true,
    "editable": true
   },
   "outputs": [
    {
     "name": "stdout",
     "output_type": "stream",
     "text": [
      "Training score is 0.954\n",
      "Testing score is 0.663\n"
     ]
    }
   ],
   "source": [
    "from sklearn.svm import SVC\n",
    "\n",
    "clf = SVC(kernel = 'linear')\n",
    "\n",
    "train_pred_fn(clf, vector_train, vector_test)"
   ]
  },
  {
   "cell_type": "markdown",
   "metadata": {},
   "source": [
    "### Tuning the hyperparameter"
   ]
  },
  {
   "cell_type": "markdown",
   "metadata": {},
   "source": [
    "#### Logistic Regression"
   ]
  },
  {
   "cell_type": "code",
   "execution_count": 30,
   "metadata": {
    "collapsed": false
   },
   "outputs": [
    {
     "name": "stdout",
     "output_type": "stream",
     "text": [
      "Training score is 0.975\n",
      "Testing score is 0.685\n"
     ]
    }
   ],
   "source": [
    "# 设置超参数范围\n",
    "from sklearn.model_selection import GridSearchCV\n",
    "parameters = {'C':[ 0.1, 1.0, 10.0, 50.0 ,100.0]}\n",
    "clf = LogisticRegression()\n",
    "# gridsearch\n",
    "grid_obj = GridSearchCV(clf, param_grid = parameters, n_jobs = -1)\n",
    "grid_obj.fit(vector_train, newsgroups_train.target)\n",
    "# 最好的模型进行预测\n",
    "best_clf = grid_obj.best_estimator_\n",
    "print(\"Training score is %.3f\"%best_clf.score(vector_train, newsgroups_train.target))\n",
    "print(\"Testing score is %.3f\"%best_clf.score(vector_test, newsgroups_test.target))"
   ]
  },
  {
   "cell_type": "code",
   "execution_count": 31,
   "metadata": {
    "collapsed": false
   },
   "outputs": [
    {
     "data": {
      "text/plain": [
       "LogisticRegression(C=100.0, class_weight=None, dual=False, fit_intercept=True,\n",
       "          intercept_scaling=1, max_iter=100, multi_class='ovr', n_jobs=1,\n",
       "          penalty='l2', random_state=None, solver='liblinear', tol=0.0001,\n",
       "          verbose=0, warm_start=False)"
      ]
     },
     "execution_count": 31,
     "metadata": {},
     "output_type": "execute_result"
    }
   ],
   "source": [
    "best_clf"
   ]
  },
  {
   "cell_type": "code",
   "execution_count": 32,
   "metadata": {
    "collapsed": false
   },
   "outputs": [
    {
     "data": {
      "text/plain": [
       "{'mean_fit_time': array([  7.79181767,  14.454609  ,  19.55138834,  24.30512174,  19.78922892]),\n",
       " 'mean_score_time': array([ 0.03309703,  0.04240187,  0.03694431,  0.03882432,  0.01834242]),\n",
       " 'mean_test_score': array([ 0.58714867,  0.70947499,  0.74005657,  0.74226622,  0.74270815]),\n",
       " 'mean_train_score': array([ 0.7086365 ,  0.90516195,  0.9733075 ,  0.97472159,  0.97480995]),\n",
       " 'param_C': masked_array(data = [0.1 1.0 10.0 50.0 100.0],\n",
       "              mask = [False False False False False],\n",
       "        fill_value = ?),\n",
       " 'params': ({'C': 0.1}, {'C': 1.0}, {'C': 10.0}, {'C': 50.0}, {'C': 100.0}),\n",
       " 'rank_test_score': array([5, 4, 3, 2, 1], dtype=int32),\n",
       " 'split0_test_score': array([ 0.58066225,  0.70251656,  0.73589404,  0.73509934,  0.73509934]),\n",
       " 'split0_train_score': array([ 0.71375514,  0.90502719,  0.97453243,  0.97559358,  0.97559358]),\n",
       " 'split1_test_score': array([ 0.59687252,  0.71746621,  0.74476544,  0.7490061 ,  0.74927114]),\n",
       " 'split1_train_score': array([ 0.70587455,  0.90598064,  0.97201963,  0.97361093,  0.97374354]),\n",
       " 'split2_test_score': array([ 0.58390866,  0.70844397,  0.73951142,  0.74269782,  0.74375996]),\n",
       " 'split2_train_score': array([ 0.70627981,  0.90447801,  0.97337043,  0.97496025,  0.97509274]),\n",
       " 'std_fit_time': array([ 0.054884  ,  0.94477278,  0.66581466,  0.65847007,  2.92457086]),\n",
       " 'std_score_time': array([ 0.00193374,  0.00580488,  0.0041699 ,  0.00380955,  0.00567652]),\n",
       " 'std_test_score': array([ 0.00700458,  0.00614861,  0.00364342,  0.00568759,  0.00583515]),\n",
       " 'std_train_score': array([ 0.0036232 ,  0.0006208 ,  0.00102681,  0.00082682,  0.0007813 ])}"
      ]
     },
     "execution_count": 32,
     "metadata": {},
     "output_type": "execute_result"
    }
   ],
   "source": [
    "grid_obj.cv_results_"
   ]
  },
  {
   "cell_type": "code",
   "execution_count": 33,
   "metadata": {
    "collapsed": false
   },
   "outputs": [
    {
     "data": {
      "text/plain": [
       "({'C': 0.1}, {'C': 1.0}, {'C': 10.0}, {'C': 50.0}, {'C': 100.0})"
      ]
     },
     "execution_count": 33,
     "metadata": {},
     "output_type": "execute_result"
    }
   ],
   "source": [
    "grid_obj.cv_results_['params']"
   ]
  },
  {
   "cell_type": "code",
   "execution_count": 34,
   "metadata": {
    "collapsed": false
   },
   "outputs": [
    {
     "data": {
      "text/plain": [
       "<matplotlib.text.Text at 0x12b744e80>"
      ]
     },
     "execution_count": 34,
     "metadata": {},
     "output_type": "execute_result"
    },
    {
     "data": {
      "image/png": "[encoded data removed]",
      "text/plain": [
       "<matplotlib.figure.Figure at 0x12b86cba8>"
      ]
     },
     "metadata": {},
     "output_type": "display_data"
    }
   ],
   "source": [
    "plt.plot(grid_obj.cv_results_['mean_test_score'])\n",
    "plt.title('mean_test_score')\n",
    "plt.xlabel('parameter_setting')\n",
    "plt.ylabel('score')"
   ]
  },
  {
   "cell_type": "code",
   "execution_count": 35,
   "metadata": {
    "collapsed": false
   },
   "outputs": [
    {
     "data": {
      "text/plain": [
       "[<matplotlib.lines.Line2D at 0x12ba3a6d8>]"
      ]
     },
     "execution_count": 35,
     "metadata": {},
     "output_type": "execute_result"
    },
    {
     "data": {
      "image/png": "[encoded data removed]",
      "text/plain": [
       "<matplotlib.figure.Figure at 0x129d7e710>"
      ]
     },
     "metadata": {},
     "output_type": "display_data"
    }
   ],
   "source": [
    "plt.plot(grid_obj.cv_results_['mean_train_score'])"
   ]
  },
  {
   "cell_type": "markdown",
   "metadata": {},
   "source": [
    "#### SVM"
   ]
  },
  {
   "cell_type": "code",
   "execution_count": 44,
   "metadata": {
    "collapsed": false
   },
   "outputs": [
    {
     "name": "stdout",
     "output_type": "stream",
     "text": [
      "Training score is 0.954\n",
      "Testing score is 0.663\n"
     ]
    }
   ],
   "source": [
    "# 设置超参数范围\n",
    "parameters = {'C':[0.01, 0.1, 1, 10]}\n",
    "clf = SVC(kernel = 'linear')\n",
    "# gridsearch\n",
    "grid_obj = GridSearchCV(clf, param_grid = parameters, n_jobs = -1)\n",
    "grid_obj.fit(vector_train, newsgroups_train.target)\n",
    "# 最好的模型进行预测\n",
    "best_clf = grid_obj.best_estimator_\n",
    "print(\"Training score is %.3f\"%best_clf.score(vector_train, newsgroups_train.target))\n",
    "print(\"Testing score is %.3f\"%best_clf.score(vector_test, newsgroups_test.target))"
   ]
  },
  {
   "cell_type": "code",
   "execution_count": 45,
   "metadata": {
    "collapsed": false
   },
   "outputs": [
    {
     "data": {
      "text/plain": [
       "SVC(C=1, cache_size=200, class_weight=None, coef0=0.0,\n",
       "  decision_function_shape=None, degree=3, gamma='auto', kernel='linear',\n",
       "  max_iter=-1, probability=False, random_state=None, shrinking=True,\n",
       "  tol=0.001, verbose=False)"
      ]
     },
     "execution_count": 45,
     "metadata": {},
     "output_type": "execute_result"
    }
   ],
   "source": [
    "best_clf"
   ]
  },
  {
   "cell_type": "markdown",
   "metadata": {},
   "source": [
    "#### RandomForest"
   ]
  },
  {
   "cell_type": "code",
   "execution_count": 31,
   "metadata": {
    "collapsed": false
   },
   "outputs": [
    {
     "name": "stdout",
     "output_type": "stream",
     "text": [
      "Training score is 0.974\n",
      "Testing score is 0.631\n"
     ]
    }
   ],
   "source": [
    "# 设置超参数范围\n",
    "parameters = {'n_estimators':[10, 100, 500],  'min_samples_split':[2,10,50]}\n",
    "clf = RandomForestClassifier()\n",
    "# gridsearch\n",
    "grid_obj = GridSearchCV(clf, param_grid = parameters, n_jobs = -1)\n",
    "grid_obj.fit(vector_train, newsgroups_train.target)\n",
    "# 最好的模型进行预测\n",
    "best_clf = grid_obj.best_estimator_\n",
    "print(\"Training score is %.3f\"%best_clf.score(vector_train, newsgroups_train.target))\n",
    "print(\"Testing score is %.3f\"%best_clf.score(vector_test, newsgroups_test.target))"
   ]
  },
  {
   "cell_type": "code",
   "execution_count": 36,
   "metadata": {
    "collapsed": false,
    "scrolled": true
   },
   "outputs": [
    {
     "data": {
      "text/plain": [
       "RandomForestClassifier(bootstrap=True, class_weight=None, criterion='gini',\n",
       "            max_depth=None, max_features='auto', max_leaf_nodes=None,\n",
       "            min_impurity_split=1e-07, min_samples_leaf=1,\n",
       "            min_samples_split=10, min_weight_fraction_leaf=0.0,\n",
       "            n_estimators=500, n_jobs=1, oob_score=False, random_state=None,\n",
       "            verbose=0, warm_start=False)"
      ]
     },
     "execution_count": 36,
     "metadata": {},
     "output_type": "execute_result"
    }
   ],
   "source": [
    "best_clf"
   ]
  },
  {
   "cell_type": "code",
   "execution_count": 42,
   "metadata": {
    "collapsed": false
   },
   "outputs": [
    {
     "data": {
      "text/plain": [
       "{'mean_fit_time': array([  17.84285132,  132.22401698,  567.95782669,    6.69344266,\n",
       "          67.59419203,  305.81502207,    4.56150532,   43.75808994,\n",
       "         227.78441191]),\n",
       " 'mean_score_time': array([ 0.21424039,  1.25031734,  5.19717161,  0.09847975,  0.96242491,\n",
       "         4.6964527 ,  0.08664441,  0.74543937,  3.38549272]),\n",
       " 'mean_test_score': array([ 0.44166519,  0.62939721,  0.66095103,  0.49628779,  0.6459254 ,\n",
       "         0.66572388,  0.52253845,  0.6465441 ,  0.66413293]),\n",
       " 'mean_train_score': array([ 0.97180476,  0.97494254,  0.97494254,  0.9579289 ,  0.97445647,\n",
       "         0.97454495,  0.88518529,  0.95638156,  0.95889994]),\n",
       " 'param_min_samples_split': masked_array(data = [2 2 2 10 10 10 50 50 50],\n",
       "              mask = [False False False False False False False False False],\n",
       "        fill_value = ?),\n",
       " 'param_n_estimators': masked_array(data = [10 100 500 10 100 500 10 100 500],\n",
       "              mask = [False False False False False False False False False],\n",
       "        fill_value = ?),\n",
       " 'params': ({'min_samples_split': 2, 'n_estimators': 10},\n",
       "  {'min_samples_split': 2, 'n_estimators': 100},\n",
       "  {'min_samples_split': 2, 'n_estimators': 500},\n",
       "  {'min_samples_split': 10, 'n_estimators': 10},\n",
       "  {'min_samples_split': 10, 'n_estimators': 100},\n",
       "  {'min_samples_split': 10, 'n_estimators': 500},\n",
       "  {'min_samples_split': 50, 'n_estimators': 10},\n",
       "  {'min_samples_split': 50, 'n_estimators': 100},\n",
       "  {'min_samples_split': 50, 'n_estimators': 500}),\n",
       " 'rank_test_score': array([9, 6, 3, 8, 5, 1, 7, 4, 2], dtype=int32),\n",
       " 'split0_test_score': array([ 0.43443709,  0.62066225,  0.65509934,  0.49218543,  0.6415894 ,\n",
       "         0.65854305,  0.52927152,  0.63708609,  0.65721854]),\n",
       " 'split0_train_score': array([ 0.97307335,  0.97585887,  0.97585887,  0.96113543,  0.97532829,\n",
       "         0.97572622,  0.8852633 ,  0.95795198,  0.95941106]),\n",
       " 'split1_test_score': array([ 0.44844951,  0.62920753,  0.66419295,  0.48741055,  0.65041081,\n",
       "         0.66737344,  0.52425126,  0.65544659,  0.66949377]),\n",
       " 'split1_train_score': array([ 0.96989789,  0.97374354,  0.97374354,  0.95597401,  0.97347832,\n",
       "         0.97347832,  0.88118287,  0.95464792,  0.95650444]),\n",
       " 'split2_test_score': array([ 0.44211365,  0.63834307,  0.66356877,  0.50929368,  0.64577801,\n",
       "         0.67126925,  0.51407329,  0.64710568,  0.66569304]),\n",
       " 'split2_train_score': array([ 0.97244303,  0.97522523,  0.97522523,  0.95667727,  0.9745628 ,\n",
       "         0.97443031,  0.8891097 ,  0.95654478,  0.96078431]),\n",
       " 'std_fit_time': array([  0.64425146,   4.17737468,  15.82150202,   0.62769043,\n",
       "          3.35241725,  14.49517358,   0.12987929,   1.84501241,   6.64618855]),\n",
       " 'std_score_time': array([ 0.06941237,  0.18367791,  0.40871148,  0.00801024,  0.08001878,\n",
       "         0.44072711,  0.00348137,  0.05171103,  0.41930197]),\n",
       " 'std_test_score': array([ 0.00573133,  0.00721861,  0.00414862,  0.00939148,  0.0036041 ,\n",
       "         0.0053243 ,  0.00632116,  0.00750878,  0.00513281]),\n",
       " 'std_train_score': array([ 0.00137269,  0.00088641,  0.00088641,  0.00228546,  0.00075898,\n",
       "         0.00092128,  0.00323659,  0.0013538 ,  0.00178424])}"
      ]
     },
     "execution_count": 42,
     "metadata": {},
     "output_type": "execute_result"
    }
   ],
   "source": [
    "grid_obj.cv_results_"
   ]
  },
  {
   "cell_type": "code",
   "execution_count": 40,
   "metadata": {
    "collapsed": false,
    "scrolled": false
   },
   "outputs": [
    {
     "data": {
      "text/plain": [
       "({'min_samples_split': 2, 'n_estimators': 10},\n",
       " {'min_samples_split': 2, 'n_estimators': 100},\n",
       " {'min_samples_split': 2, 'n_estimators': 500},\n",
       " {'min_samples_split': 10, 'n_estimators': 10},\n",
       " {'min_samples_split': 10, 'n_estimators': 100},\n",
       " {'min_samples_split': 10, 'n_estimators': 500},\n",
       " {'min_samples_split': 50, 'n_estimators': 10},\n",
       " {'min_samples_split': 50, 'n_estimators': 100},\n",
       " {'min_samples_split': 50, 'n_estimators': 500})"
      ]
     },
     "execution_count": 40,
     "metadata": {},
     "output_type": "execute_result"
    }
   ],
   "source": [
    "grid_obj.cv_results_['params']"
   ]
  },
  {
   "cell_type": "code",
   "execution_count": 46,
   "metadata": {
    "collapsed": false,
    "scrolled": true
   },
   "outputs": [
    {
     "data": {
      "text/plain": [
       "<matplotlib.text.Text at 0x12e0bf7f0>"
      ]
     },
     "execution_count": 46,
     "metadata": {},
     "output_type": "execute_result"
    },
    {
     "data": {
      "image/png": "[encoded data removed]",
      "text/plain": [
       "<matplotlib.figure.Figure at 0x12e90b7f0>"
      ]
     },
     "metadata": {},
     "output_type": "display_data"
    }
   ],
   "source": [
    "plt.plot(grid_obj.cv_results_['mean_test_score'])\n",
    "plt.title('mean_test_score')\n",
    "plt.xlabel('parameter_setting')\n",
    "plt.ylabel('score')"
   ]
  },
  {
   "cell_type": "code",
   "execution_count": 41,
   "metadata": {
    "collapsed": false
   },
   "outputs": [
    {
     "data": {
      "text/plain": [
       "[<matplotlib.lines.Line2D at 0x12e8cab70>]"
      ]
     },
     "execution_count": 41,
     "metadata": {},
     "output_type": "execute_result"
    },
    {
     "data": {
      "image/png": "[encoded data removed]",
      "text/plain": [
       "<matplotlib.figure.Figure at 0x12d0c8d68>"
      ]
     },
     "metadata": {},
     "output_type": "display_data"
    }
   ],
   "source": [
    "plt.plot(grid_obj.cv_results_['mean_train_score'])"
   ]
  },
  {
   "cell_type": "code",
   "execution_count": 49,
   "metadata": {
    "collapsed": false
   },
   "outputs": [
    {
     "data": {
      "text/plain": [
       "<matplotlib.text.Text at 0x12e0657b8>"
      ]
     },
     "execution_count": 49,
     "metadata": {},
     "output_type": "execute_result"
    },
    {
     "data": {
      "image/png": "[encoded data removed]",
      "text/plain": [
       "<matplotlib.figure.Figure at 0x12e9f3da0>"
      ]
     },
     "metadata": {},
     "output_type": "display_data"
    }
   ],
   "source": [
    "x = [0.678, 0.631, 0.663, 0.591, 0.390, 0.573, 0.553]\n",
    "plt.bar(range(len(x)), x, tick_label =['Base_model', 'rf_bow','svm_bog','logistic_ave', 'rf_ave','svm_ave','lstm_seq'])\n",
    "plt.xlabel('Method')\n",
    "plt.ylabel('score')\n",
    "plt.title('Test Score of Different Methods')"
   ]
  },
  {
   "cell_type": "markdown",
   "metadata": {},
   "source": [
    "## Method 2: Word2Vec"
   ]
  },
  {
   "cell_type": "code",
   "execution_count": 55,
   "metadata": {
    "collapsed": false,
    "deletable": true,
    "editable": true
   },
   "outputs": [],
   "source": [
    "# 使用gensim训练word2vec\n",
    "dim = 100\n",
    "\n",
    "model_news = gensim.models.Word2Vec(sentences, workers=4, size=dim, min_count=2, window=8, sample=1e-3, iter = 30000)"
   ]
  },
  {
   "cell_type": "code",
   "execution_count": 64,
   "metadata": {
    "collapsed": false
   },
   "outputs": [
    {
     "data": {
      "text/plain": [
       "[('man', 0.6217696070671082),\n",
       " ('her', 0.5826433897018433),\n",
       " ('she', 0.5783253908157349),\n",
       " ('person', 0.534965991973877),\n",
       " ('dog', 0.5204246044158936),\n",
       " ('women', 0.5027643442153931),\n",
       " ('girl', 0.4961436688899994),\n",
       " ('mother', 0.4921339750289917),\n",
       " ('children', 0.45686399936676025),\n",
       " ('friend', 0.45095932483673096)]"
      ]
     },
     "execution_count": 64,
     "metadata": {},
     "output_type": "execute_result"
    }
   ],
   "source": [
    "# 查看相似单词\n",
    "model_news.most_similar(\"woman\")"
   ]
  },
  {
   "cell_type": "code",
   "execution_count": 86,
   "metadata": {
    "collapsed": false
   },
   "outputs": [
    {
     "data": {
      "text/plain": [
       "[('bike', 0.7111523151397705),\n",
       " ('cars', 0.6475207805633545),\n",
       " ('engine', 0.5363672375679016),\n",
       " ('bikes', 0.5203389525413513),\n",
       " ('honda', 0.5200111865997314),\n",
       " ('tires', 0.5190979242324829),\n",
       " ('jacket', 0.5108001232147217),\n",
       " ('dealer', 0.5054090023040771),\n",
       " ('volvo', 0.4970071613788605),\n",
       " ('odometer', 0.49022600054740906)]"
      ]
     },
     "execution_count": 86,
     "metadata": {},
     "output_type": "execute_result"
    }
   ],
   "source": [
    "model_news.most_similar(\"car\")"
   ]
  },
  {
   "cell_type": "code",
   "execution_count": 76,
   "metadata": {
    "collapsed": false,
    "scrolled": true
   },
   "outputs": [
    {
     "data": {
      "text/plain": [
       "[('father', 0.6114832162857056),\n",
       " ('wife', 0.5844025611877441),\n",
       " ('marina', 0.533140242099762),\n",
       " ('soul', 0.5187636017799377),\n",
       " ('neighbor', 0.5042768716812134),\n",
       " ('lord', 0.5013660788536072),\n",
       " ('son', 0.4962785243988037),\n",
       " ('woman', 0.4921340346336365),\n",
       " ('apartment', 0.4894893169403076),\n",
       " ('she', 0.4863095283508301)]"
      ]
     },
     "execution_count": 76,
     "metadata": {},
     "output_type": "execute_result"
    }
   ],
   "source": [
    "model_news.most_similar(\"mother\")"
   ]
  },
  {
   "cell_type": "code",
   "execution_count": 67,
   "metadata": {
    "collapsed": false
   },
   "outputs": [
    {
     "data": {
      "text/plain": [
       "[('woman', 0.6217697262763977),\n",
       " ('person', 0.5439392924308777),\n",
       " ('god', 0.5286370515823364),\n",
       " ('he', 0.4848752021789551),\n",
       " ('jesus', 0.4779359698295593),\n",
       " ('himself', 0.47040891647338867),\n",
       " ('christ', 0.4632817506790161),\n",
       " ('angel', 0.45045924186706543),\n",
       " ('humankind', 0.44898122549057007),\n",
       " ('father', 0.44339221715927124)]"
      ]
     },
     "execution_count": 67,
     "metadata": {},
     "output_type": "execute_result"
    }
   ],
   "source": [
    "model_news.most_similar(\"man\")"
   ]
  },
  {
   "cell_type": "code",
   "execution_count": 83,
   "metadata": {
    "collapsed": false
   },
   "outputs": [
    {
     "data": {
      "text/plain": [
       "[('person', 0.448219895362854),\n",
       " ('her', 0.42244499921798706),\n",
       " ('women', 0.41352951526641846),\n",
       " ('wast', 0.40973496437072754),\n",
       " ('she', 0.4056164026260376),\n",
       " ('tmu', 0.37912845611572266),\n",
       " ('whistle', 0.3739548325538635),\n",
       " ('strangers', 0.3730327785015106),\n",
       " ('agdam', 0.36491793394088745),\n",
       " ('walked', 0.36253565549850464)]"
      ]
     },
     "execution_count": 83,
     "metadata": {},
     "output_type": "execute_result"
    }
   ],
   "source": [
    "# 语义推断\n",
    "model_news.wv.most_similar(positive=['dog', 'cat'], negative=['boy'])"
   ]
  },
  {
   "cell_type": "markdown",
   "metadata": {
    "deletable": true,
    "editable": true
   },
   "source": [
    "### convert document to vector"
   ]
  },
  {
   "cell_type": "markdown",
   "metadata": {
    "deletable": true,
    "editable": true
   },
   "source": [
    "####  average the words' vector in each document"
   ]
  },
  {
   "cell_type": "code",
   "execution_count": 46,
   "metadata": {
    "collapsed": false,
    "deletable": true,
    "editable": true
   },
   "outputs": [],
   "source": [
    "# 使用词向量平均进行文本表示\n",
    "word2vec_train = np.zeros((len(sentences), dim))\n",
    "for i, sentence in enumerate(sentences):\n",
    "    count = 0.0\n",
    "    for word in sentence:\n",
    "        if word in model_news.wv.vocab:\n",
    "            count += 1\n",
    "            word2vec_train[i] += model_news[word]\n",
    "    if count != 0:\n",
    "        word2vec_train[i] = word2vec_train[i]/count\n",
    "    \n",
    "sentences_test = [clean(text) for text in newsgroups_test.data]\n",
    "word2vec_test = np.zeros((len(sentences_test), dim))\n",
    "for i, sentence in enumerate(sentences_test):\n",
    "    count = 0\n",
    "    for word in sentence:\n",
    "        if word in model_news.wv.vocab:\n",
    "            count += 1\n",
    "            word2vec_test[i] += model_news[word]\n",
    "    if count != 0:\n",
    "        word2vec_test[i] = word2vec_test[i]/count"
   ]
  },
  {
   "cell_type": "code",
   "execution_count": 49,
   "metadata": {
    "collapsed": false,
    "deletable": true,
    "editable": true
   },
   "outputs": [
    {
     "name": "stdout",
     "output_type": "stream",
     "text": [
      "Training score is 0.670\n",
      "Testing score is 0.591\n"
     ]
    }
   ],
   "source": [
    "# 使用逻辑回归进行分类\n",
    "clf = LogisticRegression()\n",
    "\n",
    "train_pred_fn(clf, word2vec_train, word2vec_test)"
   ]
  },
  {
   "cell_type": "code",
   "execution_count": 50,
   "metadata": {
    "collapsed": false,
    "deletable": true,
    "editable": true
   },
   "outputs": [
    {
     "name": "stdout",
     "output_type": "stream",
     "text": [
      "Training score is 0.970\n",
      "Testing score is 0.390\n"
     ]
    }
   ],
   "source": [
    "#使用随机森林进行分类\n",
    "clf = RandomForestClassifier()\n",
    "\n",
    "train_pred_fn(clf, word2vec_train, word2vec_test)"
   ]
  },
  {
   "cell_type": "code",
   "execution_count": 51,
   "metadata": {
    "collapsed": false
   },
   "outputs": [
    {
     "name": "stdout",
     "output_type": "stream",
     "text": [
      "Training score is 0.750\n",
      "Testing score is 0.573\n"
     ]
    }
   ],
   "source": [
    "#使用svm进行分类\n",
    "clf = SVC(kernel = 'linear')\n",
    "\n",
    "train_pred_fn(clf, word2vec_train, word2vec_test)"
   ]
  },
  {
   "cell_type": "markdown",
   "metadata": {
    "deletable": true,
    "editable": true
   },
   "source": [
    "### Use text8 to train skip-gram model"
   ]
  },
  {
   "cell_type": "code",
   "execution_count": 52,
   "metadata": {
    "collapsed": false,
    "deletable": true,
    "editable": true
   },
   "outputs": [
    {
     "name": "stdout",
     "output_type": "stream",
     "text": [
      "Found and verified text8.zip\n"
     ]
    }
   ],
   "source": [
    "# 下载数据集\n",
    "url = 'http://mattmahoney.net/dc/'\n",
    "import os\n",
    "from six.moves.urllib.request import urlretrieve\n",
    "\n",
    "def maybe_download(filename, expected_bytes):\n",
    "    \"\"\"Download a file if not present, and make sure it's the right size.\"\"\"\n",
    "    if not os.path.exists(filename):\n",
    "        filename, _ = urlretrieve(url + filename, filename)\n",
    "    statinfo = os.stat(filename)\n",
    "    if statinfo.st_size == expected_bytes:\n",
    "        print('Found and verified %s' % filename)\n",
    "    else:\n",
    "        print(statinfo.st_size)\n",
    "        raise Exception(\n",
    "          'Failed to verify ' + filename + '. Can you get to it with a browser?')\n",
    "    return filename\n",
    "\n",
    "filename = maybe_download('text8.zip', 31344016)"
   ]
  },
  {
   "cell_type": "code",
   "execution_count": 53,
   "metadata": {
    "collapsed": false
   },
   "outputs": [
    {
     "name": "stdout",
     "output_type": "stream",
     "text": [
      "Archive:  text8.zip\n",
      "  inflating: text8                   \n"
     ]
    }
   ],
   "source": [
    "# 解压数据集\n",
    "!unzip text8.zip"
   ]
  },
  {
   "cell_type": "code",
   "execution_count": 55,
   "metadata": {
    "collapsed": false,
    "deletable": true,
    "editable": true
   },
   "outputs": [],
   "source": [
    "# 使用gensim训练词向量模型\n",
    "dim = 100\n",
    "\n",
    "text =  word2vec.Text8Corpus('text8')\n",
    "\n",
    "model_text = word2vec.Word2Vec(text, iter = 50, size = dim)"
   ]
  },
  {
   "cell_type": "markdown",
   "metadata": {
    "deletable": true,
    "editable": true
   },
   "source": [
    "#### average the words' vector in each document"
   ]
  },
  {
   "cell_type": "code",
   "execution_count": 57,
   "metadata": {
    "collapsed": false,
    "deletable": true,
    "editable": true
   },
   "outputs": [],
   "source": [
    "# 使用词向量平均进行文本表示\n",
    "word2vec_train = np.zeros((len(sentences), dim))\n",
    "for i, sentence in enumerate(sentences):\n",
    "    count = 0.0\n",
    "    for word in sentence:\n",
    "        if word in model_text.wv.vocab:\n",
    "            count += 1\n",
    "            word2vec_train[i] += model_text[word]\n",
    "    if count != 0:\n",
    "        word2vec_train[i] = word2vec_train[i]/count\n",
    "    \n",
    "word2vec_test = np.zeros((len(sentences_test), dim))\n",
    "for i, sentence in enumerate(sentences_test):\n",
    "    count = 0\n",
    "    for word in sentence:\n",
    "        if word in model_text.wv.vocab:\n",
    "            count += 1\n",
    "            word2vec_test[i] += model_text[word]\n",
    "    if count != 0:\n",
    "        word2vec_test[i] = word2vec_test[i]/count"
   ]
  },
  {
   "cell_type": "code",
   "execution_count": 58,
   "metadata": {
    "collapsed": false,
    "deletable": true,
    "editable": true
   },
   "outputs": [
    {
     "name": "stdout",
     "output_type": "stream",
     "text": [
      "Training score is 0.601\n",
      "Testing score is 0.537\n"
     ]
    }
   ],
   "source": [
    "# 逻辑回归进行分类\n",
    "clf = LogisticRegression()\n",
    "\n",
    "train_pred_fn(clf, word2vec_train, word2vec_test)"
   ]
  },
  {
   "cell_type": "code",
   "execution_count": 59,
   "metadata": {
    "collapsed": false,
    "deletable": true,
    "editable": true
   },
   "outputs": [
    {
     "name": "stdout",
     "output_type": "stream",
     "text": [
      "Training score is 0.668\n",
      "Testing score is 0.527\n"
     ]
    }
   ],
   "source": [
    "# svm进行分类\n",
    "clf = SVC(kernel = 'linear')\n",
    "\n",
    "train_pred_fn(clf, word2vec_train, word2vec_test)"
   ]
  },
  {
   "cell_type": "code",
   "execution_count": 60,
   "metadata": {
    "collapsed": false,
    "deletable": true,
    "editable": true
   },
   "outputs": [
    {
     "name": "stdout",
     "output_type": "stream",
     "text": [
      "Training score is 0.970\n",
      "Testing score is 0.313\n"
     ]
    }
   ],
   "source": [
    "# 随机森林进行分类\n",
    "clf = RandomForestClassifier()\n",
    "\n",
    "train_pred_fn(clf, word2vec_train, word2vec_test)"
   ]
  },
  {
   "cell_type": "markdown",
   "metadata": {
    "deletable": true,
    "editable": true
   },
   "source": [
    "## Method: 3 Deep Learning"
   ]
  },
  {
   "cell_type": "code",
   "execution_count": 40,
   "metadata": {
    "collapsed": false,
    "deletable": true,
    "editable": true
   },
   "outputs": [],
   "source": [
    "import tflearn\n",
    "from tflearn.data_utils import to_categorical, pad_sequences"
   ]
  },
  {
   "cell_type": "markdown",
   "metadata": {},
   "source": [
    "### LSTM with Word2Vec_news"
   ]
  },
  {
   "cell_type": "code",
   "execution_count": 60,
   "metadata": {
    "collapsed": false
   },
   "outputs": [],
   "source": [
    "# 建立词典\n",
    "word2idx = dict([(k, v.index) for k, v in model_news.wv.vocab.items()])\n",
    "word2idx['UNK'] = len(word2idx)\n",
    "\n",
    "idx2word = dict([(v.index, k) for k, v in model_news.wv.vocab.items()])\n",
    "idx2word[len(idx2word)] = 'UNK'\n",
    "\n",
    "# 构建Embedding_matrix\n",
    "embedding_weight = np.zeros([len(idx2word), model_news.wv.syn0.shape[1]])\n",
    "embedding_weight[:-1] = model_news.wv.syn0"
   ]
  },
  {
   "cell_type": "code",
   "execution_count": 61,
   "metadata": {
    "collapsed": true
   },
   "outputs": [],
   "source": [
    "# 将文字序列变为index序列\n",
    "trainX_raw = []\n",
    "testX_raw = []\n",
    "\n",
    "for sentence in sentences: \n",
    "    tmp = []\n",
    "    for word in sentence:\n",
    "        if word in word2idx:\n",
    "            tmp.append(word2idx[word])\n",
    "        else:\n",
    "            tmp.append(word2idx['UNK'])\n",
    "    trainX_raw.append(tmp)\n",
    "    \n",
    "for sentence in sentences_test:\n",
    "    tmp = []\n",
    "    for word in sentence:\n",
    "        if word in word2idx:\n",
    "            tmp.append(word2idx[word])\n",
    "        else:\n",
    "            tmp.append(word2idx['UNK'])\n",
    "    testX_raw.append(tmp)"
   ]
  },
  {
   "cell_type": "code",
   "execution_count": 62,
   "metadata": {
    "collapsed": true
   },
   "outputs": [],
   "source": [
    "# padding sequence\n",
    "# 使得所有序列长度相同\n",
    "max_length = 200\n",
    "trainX = pad_sequences(trainX_raw, maxlen=max_length, value=0.)\n",
    "testX = pad_sequences(testX_raw, maxlen=max_length, value=0.)\n",
    "# Converting labels to binary vectors\n",
    "trainY = to_categorical(newsgroups_train.target, nb_classes=20)\n",
    "testY = to_categorical(newsgroups_test.target, nb_classes=20)"
   ]
  },
  {
   "cell_type": "code",
   "execution_count": 63,
   "metadata": {
    "collapsed": false
   },
   "outputs": [
    {
     "name": "stdout",
     "output_type": "stream",
     "text": [
      "Training Step: 8999  | total loss: \u001b[1m\u001b[32m0.86059\u001b[0m\u001b[0m | time: 12.529s\n",
      "| Adam | epoch: 200 | loss: 0.86059 - acc: 0.7162 -- iter: 11264/11314\n",
      "Training Step: 9000  | total loss: \u001b[1m\u001b[32m0.85757\u001b[0m\u001b[0m | time: 15.569s\n",
      "| Adam | epoch: 200 | loss: 0.85757 - acc: 0.7172 | val_loss: 1.69009 - val_acc: 0.5224 -- iter: 11314/11314\n",
      "--\n"
     ]
    }
   ],
   "source": [
    "# 使用tflearn构建双层LSTM模型\n",
    "tf.reset_default_graph()\n",
    "net = tflearn.input_data([None, max_length])\n",
    "net = tflearn.embedding(net, input_dim=embedding_weight.shape[0], output_dim=embedding_weight.shape[1],\n",
    "                        weights_init=tf.constant(embedding_weight, dtype=tf.float32), trainable=False)\n",
    "net = tflearn.lstm(net, 128, dropout=0.5, return_seq = True)\n",
    "net = tflearn.lstm(net, 128, dropout=0.5)\n",
    "net = tflearn.fully_connected(net, 20, activation='softmax')\n",
    "net = tflearn.regression(net, optimizer='adam', learning_rate=0.001,\n",
    "                         loss='categorical_crossentropy')\n",
    "\n",
    "# Training\n",
    "model = tflearn.DNN(net, tensorboard_verbose=0)\n",
    "model.fit(trainX, trainY, validation_set=(testX, testY), show_metric=True, n_epoch = 200,\n",
    "          batch_size=256)"
   ]
  },
  {
   "cell_type": "markdown",
   "metadata": {
    "collapsed": true,
    "deletable": true,
    "editable": true
   },
   "source": [
    "### LSTM with Word2Vec_text8"
   ]
  },
  {
   "cell_type": "code",
   "execution_count": 47,
   "metadata": {
    "collapsed": false,
    "deletable": true,
    "editable": true
   },
   "outputs": [],
   "source": [
    "# 使用text8数据集构建词典\n",
    "word2idx = dict([(k, v.index) for k, v in model_text.wv.vocab.items()])\n",
    "word2idx['UNK'] = len(word2idx)\n",
    "\n",
    "idx2word = dict([(v.index, k) for k, v in model_text.wv.vocab.items()])\n",
    "idx2word[len(idx2word)] = 'UNK'\n",
    "\n",
    "# 构建embedding_matrix\n",
    "embedding_weight = np.zeros([len(idx2word), model_text.wv.syn0.shape[1]])\n",
    "embedding_weight[:-1] = model_text.wv.syn0"
   ]
  },
  {
   "cell_type": "code",
   "execution_count": 48,
   "metadata": {
    "collapsed": true,
    "deletable": true,
    "editable": true
   },
   "outputs": [],
   "source": [
    "# 将文字序列变为index序列\n",
    "trainX_raw = []\n",
    "testX_raw = []\n",
    "\n",
    "for sentence in sentences: \n",
    "    tmp = []\n",
    "    for word in sentence:\n",
    "        if word in word2idx:\n",
    "            tmp.append(word2idx[word])\n",
    "        else:\n",
    "            tmp.append(word2idx['UNK'])\n",
    "    trainX_raw.append(tmp)\n",
    "    \n",
    "for sentence in sentences_test:\n",
    "    tmp = []\n",
    "    for word in sentence:\n",
    "        if word in word2idx:\n",
    "            tmp.append(word2idx[word])\n",
    "        else:\n",
    "            tmp.append(word2idx['UNK'])\n",
    "    testX_raw.append(tmp)"
   ]
  },
  {
   "cell_type": "code",
   "execution_count": 49,
   "metadata": {
    "collapsed": false,
    "deletable": true,
    "editable": true
   },
   "outputs": [],
   "source": [
    "max_length = 200\n",
    "trainX = pad_sequences(trainX_raw, maxlen=max_length, value=0.)\n",
    "testX = pad_sequences(testX_raw, maxlen=max_length, value=0.)\n",
    "# Converting labels to binary vectors\n",
    "trainY = to_categorical(newsgroups_train.target, nb_classes=20)\n",
    "testY = to_categorical(newsgroups_test.target, nb_classes=20)"
   ]
  },
  {
   "cell_type": "code",
   "execution_count": 52,
   "metadata": {
    "collapsed": false
   },
   "outputs": [
    {
     "name": "stdout",
     "output_type": "stream",
     "text": [
      "Training Step: 13481  | total loss: \u001b[1m\u001b[32m0.98612\u001b[0m\u001b[0m | time: 20.391s\n",
      "| Adam | epoch: 300 | loss: 0.98612 - acc: 0.6852 -- iter: 11264/11314\n",
      "Training Step: 13482  | total loss: \u001b[1m\u001b[32m0.97614\u001b[0m\u001b[0m | time: 24.911s\n",
      "| Adam | epoch: 300 | loss: 0.97614 - acc: 0.6901 | val_loss: 1.59564 - val_acc: 0.5530 -- iter: 11314/11314\n",
      "--\n"
     ]
    }
   ],
   "source": [
    "# 使用tflearn构建三层LSTM模型\n",
    "tf.reset_default_graph()\n",
    "net = tflearn.input_data([None, max_length])\n",
    "net = tflearn.embedding(net, input_dim=embedding_weight.shape[0], output_dim=embedding_weight.shape[1],\n",
    "                        weights_init=tf.constant(embedding_weight, dtype=tf.float32), trainable=False)\n",
    "net = tflearn.lstm(net, 128, dropout=0.5, return_seq = True)\n",
    "net = tflearn.lstm(net, 128, dropout=0.5, return_seq = True)\n",
    "net = tflearn.lstm(net, 128, dropout=0.5)\n",
    "net = tflearn.fully_connected(net, 20, activation='softmax')\n",
    "net = tflearn.regression(net, optimizer='adam', learning_rate=0.001,\n",
    "                         loss='categorical_crossentropy')\n",
    "\n",
    "# Training\n",
    "model = tflearn.DNN(net, tensorboard_verbose=0)\n",
    "model.fit(trainX, trainY, validation_set=(testX, testY), show_metric=True, n_epoch = 300,\n",
    "          batch_size=256)"
   ]
  },
  {
   "cell_type": "code",
   "execution_count": null,
   "metadata": {
    "collapsed": true
   },
   "outputs": [],
   "source": []
  }
 ],
 "metadata": {
  "anaconda-cloud": {},
  "kernelspec": {
   "display_name": "Python [conda env:dlnd-tf-lab]",
   "language": "python",
   "name": "conda-env-dlnd-tf-lab-py"
  },
  "language_info": {
   "codemirror_mode": {
    "name": "ipython",
    "version": 3
   },
   "file_extension": ".py",
   "mimetype": "text/x-python",
   "name": "python",
   "nbconvert_exporter": "python",
   "pygments_lexer": "ipython3",
   "version": "3.5.3"
  }
 },
 "nbformat": 4,
 "nbformat_minor": 1
}
